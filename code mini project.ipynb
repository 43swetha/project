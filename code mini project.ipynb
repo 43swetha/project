{
 "cells": [
  {
   "cell_type": "code",
   "execution_count": null,
   "id": "80d639c8",
   "metadata": {},
   "outputs": [],
   "source": [
    "import sqlite3\n",
    "\n",
    "conn = sqlite3.connect('movie_database.db')\n",
    "c = conn.cursor()\n",
    "c.execute('''CREATE TABLE movies\n",
    "             (id INTEGER PRIMARY KEY,\n",
    "             title TEXT,\n",
    "             genre TEXT)''')\n",
    "\n",
    "# Insert some sample data\n",
    "c.execute(\"INSERT INTO movies (title, genre) VALUES (?, ?)\", (\"Movie 1\", \"Action\"))\n",
    "c.execute(\"INSERT INTO movies (title, genre) VALUES (?, ?)\", (\"Movie 2\", \"Comedy\"))\n",
    "\n",
    "conn.commit()\n",
    "conn.close()"
   ]
  },
  {
   "cell_type": "code",
   "execution_count": 2,
   "id": "cccb7eb3",
   "metadata": {},
   "outputs": [],
   "source": [
    "import random\n",
    "\n",
    "def get_random_movie():\n",
    "    conn = sqlite3.connect('movie_database.db')\n",
    "    c = conn.cursor()\n",
    "    \n",
    "    c.execute(\"SELECT * FROM movies\")\n",
    "    movies = c.fetchall()\n",
    "    \n",
    "    conn.close()\n",
    "    \n",
    "    return random.choice(movies)\n",
    "\n",
    "def recommend_movie(genre):\n",
    "    conn = sqlite3.connect('movie_database.db')\n",
    "    c = conn.cursor()\n",
    "    \n",
    "    c.execute(\"SELECT * FROM movies WHERE genre=?\", (genre,))\n",
    "    movies = c.fetchall()\n",
    "    \n",
    "    conn.close()\n",
    "    \n",
    "    if movies:\n",
    "        return random.choice(movies)\n",
    "    else:\n",
    "        return None"
   ]
  },
  {
   "cell_type": "code",
   "execution_count": null,
   "id": "6c9e9a92",
   "metadata": {},
   "outputs": [],
   "source": [
    "import tkinter as tk\n",
    "\n",
    "def recommend():\n",
    "    genre = genre_entry.get()\n",
    "    recommended_movie = recommend_movie(genre)\n",
    "    if recommended_movie:\n",
    "        recommendation_label.config(text=f\"Recommended Movie: {recommended_movie[1]}\")\n",
    "    else:\n",
    "        recommendation_label.config(text=\"No movies found for that genre\")\n",
    "\n",
    "root = tk.Tk()\n",
    "root.title(\"Movie Recommender\")\n",
    "\n",
    "genre_label = tk.Label(root, text=\"Enter Genre:\")\n",
    "genre_label.pack()\n",
    "\n",
    "genre_entry = tk.Entry(root)\n",
    "genre_entry.pack()\n",
    "\n",
    "recommend_button = tk.Button(root, text=\"Recommend Movie\", command=recommend)\n",
    "recommend_button.pack()\n",
    "\n",
    "recommendation_label = tk.Label(root, text=\"\")\n",
    "recommendation_label.pack()\n",
    "\n",
    "root.mainloop()\n"
   ]
  },
  {
   "cell_type": "code",
   "execution_count": null,
   "id": "fe4f0f54",
   "metadata": {},
   "outputs": [],
   "source": []
  }
 ],
 "metadata": {
  "kernelspec": {
   "display_name": "Python 3 (ipykernel)",
   "language": "python",
   "name": "python3"
  },
  "language_info": {
   "codemirror_mode": {
    "name": "ipython",
    "version": 3
   },
   "file_extension": ".py",
   "mimetype": "text/x-python",
   "name": "python",
   "nbconvert_exporter": "python",
   "pygments_lexer": "ipython3",
   "version": "3.10.9"
  }
 },
 "nbformat": 4,
 "nbformat_minor": 5
}
